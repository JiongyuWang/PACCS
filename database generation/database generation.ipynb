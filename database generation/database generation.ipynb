{
 "cells": [
  {
   "cell_type": "markdown",
   "id": "3c1e3f26-9af6-4a16-bb0f-c5db4bfd9b12",
   "metadata": {},
   "source": [
    "# Large-scale database with CCS by PACCS"
   ]
  },
  {
   "cell_type": "code",
   "execution_count": 1,
   "id": "a8fe2945-19e1-4ad4-ae6a-cf6e9a965ea5",
   "metadata": {},
   "outputs": [],
   "source": [
    "import sys\n",
    "sys.path.append(\"..\")\n",
    "import sqlite3\n",
    "from PACCS.VoxelProjectedArea import *\n",
    "from PACCS.MZ import *\n",
    "from PACCS.Prediction import *\n",
    "RDLogger.DisableLog('rdApp.*')"
   ]
  },
  {
   "cell_type": "markdown",
   "id": "1170a20b-0b0d-4fab-a59a-0eeb68fd3449",
   "metadata": {},
   "source": [
    "## Molecule filtering"
   ]
  },
  {
   "cell_type": "markdown",
   "id": "73069a88-0e5d-411b-908e-0372c9cc9949",
   "metadata": {},
   "source": [
    "### Please load the database requiring CCS predictions."
   ]
  },
  {
   "cell_type": "code",
   "execution_count": 2,
   "id": "5ba6cf5b-c579-4492-94a3-985e1f8377f7",
   "metadata": {},
   "outputs": [],
   "source": [
    "filename = './data/example_database.csv'\n",
    "data = pd.read_csv(filename)\n",
    "dsmiles = list(data['SMILES'])"
   ]
  },
  {
   "cell_type": "markdown",
   "id": "3b4ab110-d89f-4e84-9526-77fd3c0d30e7",
   "metadata": {},
   "source": [
    "### CCS prediction focuses on the organic molecules containing C and H elements. In addition, PACCS cannot perform a prediction when the molecules contain ionic bonds or elements other than C, H, O, N, P, S, F, Cl, Br, I, As, and Se. Molecules with unsuccessful conformer generation using ETKDG and MMFF94 are excluded."
   ]
  },
  {
   "cell_type": "code",
   "execution_count": 3,
   "id": "a8acfe0c-198a-42bc-a8ab-ce3b83213c7c",
   "metadata": {},
   "outputs": [
    {
     "name": "stdout",
     "output_type": "stream",
     "text": [
      "Filtered out due to presence of disallowed elements in SMILES: [Ca++]\n",
      "Filtered out due to presence of disallowed elements in SMILES: [Mg++]\n",
      "Filtered out due to presence of disallowed elements in SMILES: [K+]\n",
      "Filtered out due to presence of disallowed elements in SMILES: [Na+]\n",
      "Filtered out due to presence of disallowed elements in SMILES: [Cr+3]\n",
      "Filtered out due to presence of disallowed elements in SMILES: [H][C@@](C)(CNC(=O)CC[C@]1(C)[C@@H](CC(N)=O)[C@@]2([H])N([Co]C#N)\\C1=C(C)/C1=N/C(=C\\C3=N\\C(=C(C)/C4=N[C@]2(C)[C@@](C)(CC(N)=O)[C@@H]4CCC(N)=O)\\[C@@](C)(CC(N)=O)[C@@H]3CCC(N)=O)/C(C)(C)[C@@H]1CCC(N)=O)OP(O)(=O)O[C@@H]1[C@@H](CO)O[C@@H]([C@@H]1O)N1C=NC2=CC(C)=C(C)C=C12\n",
      "Filtered out due to presence of disallowed elements in SMILES: [Co++]\n",
      "Filtered out due to presence of disallowed elements in SMILES: [Cu++]\n",
      "Filtered out due to presence of disallowed elements in SMILES: [Fe++]\n",
      "Filtered out due to presence of disallowed elements in SMILES: CC1=C(CCC(O)=O)C2=CC3=[N]4C(=CC5=C(C)C(C=C)=C6C=C7C(C)=C(C=C)C8=[N]7[Fe]4(Cl)(N2C1=C8)N56)C(C)=C3CCC(O)=O\n",
      "Filtered out due to presence of disallowed elements in SMILES: [H][C@]12[C@H](CC(O)=O)[C@@](C)(CCC(O)=O)\\C(N1[Co+]C[C@H]1O[C@H]([C@H](O)[C@@H]1O)N1C=NC3=C1N=CN=C3N)=C(C)\\C1=N\\C(=C/C3=N/C(=C(C)\\C4=N[C@]2(C)[C@@](C)(CC(N)=O)[C@@H]4CCC(O)=O)/[C@@](C)(CC(N)=O)[C@@H]3CCC(O)=O)\\C(C)(C)[C@@H]1CCC(O)=O\n",
      "Filtered out due to presence of disallowed elements in SMILES: CC(C)=CCC\\C(C)=C\\CC\\C(C)=C\\CCC(O)C1=C(C)/C2=C/C3=N/C(=C\\C4=C(CCC(O)=O)C(C)=C5/C=C6\\N=C(\\C=C\\1/N\\2[Fe]N45)C(C)=C6C=C)/C(CCC(O)=O)=C3C\n",
      "Filtered out due to presence of disallowed elements in SMILES: [Al]\n",
      "Filtered out due to presence of disallowed elements in SMILES: [Mo++]\n",
      "Filtered out due to presence of disallowed elements in SMILES: [Rb+]\n",
      "Filtered out due to presence of disallowed elements in SMILES: [Mn++]\n",
      "Filtered out due to presence of disallowed elements in SMILES: O[Mn](=O)(=O)=O\n",
      "Filtered out due to presence of disallowed elements in SMILES: [Zr+4]\n",
      "Filtered out due to presence of disallowed elements in SMILES: [GaH3]\n",
      "Filtered out due to presence of disallowed elements in SMILES: [Te+4]\n",
      "Filtered out due to presence of disallowed elements in SMILES: [SnH4+4]\n",
      "Filtered out due to presence of disallowed elements in SMILES: [Ti+4]\n",
      "Filtered out due to presence of disallowed elements in SMILES: [W+4]\n",
      "The molecular object could not be generated from the SMILES: C#[N-]\n",
      "Filtered out due to presence of disallowed elements in SMILES: [C@H]1(C[Co-3]2345[N+]6=C7C(C)=C8N2[C@]([H])([C@H](CC(=O)N)[C@]8(CCC(=O)NC[C@@H](C)OP([O-])(=O)O[C@@H]2[C@@H](CO)O[C@H](N8C=[N+]3C3=CC(C)=C(C)C=C83)[C@@H]2O)C)[C@@]2(C)[C@@](CC(=O)N)([C@H](CCC(=O)N)C(C(C)=C3[N+]4=C(C=C6C([C@@H]7CCC(=O)N)(C)C)[C@@H](CCC(=O)N)[C@@]3(CC(=O)N)C)=[N+]52)C)O[C@@H](N2C3=NC=NC(=C3N=C2)N)[C@H](O)[C@@H]1O\n",
      "Filtered out due to presence of disallowed elements in SMILES: [H][C@]12[C@H](CC(N)=O)[C@@]3(C)CCC(=O)NC[C@@H](C)OP([O-])(=O)O[C@H]4[C@@H](O)[C@H](O[C@@H]4CO)N4C=[N+](C5=CC(C)=C(C)C=C45)[Co--]456N1C3=C(C)C1=[N+]4C(=CC3=[N+]5C(=C(C)C4=[N+]6[C@]2(C)[C@@](C)(CC(N)=O)[C@@H]4CCC(N)=O)[C@@](C)(CC(N)=O)[C@@H]3CCC(N)=O)C(C)(C)[C@@H]1CCC(N)=O\n",
      "Filtered out due to presence of disallowed elements in SMILES: [Si+4]\n",
      "Filtered out due to presence of disallowed elements in SMILES: [Bi+3]\n",
      "Filtered out due to presence of disallowed elements in SMILES: [N+]12=C3C(C(C)(C1=C(C1=[N+]4C(C(CC(N)=O)(C)C1CCC(N)=O)(C)C1N5C6=C(C7=[N+](C(=C3)C(C)(C)C7CCC(N)=O)[Co]245(SCC(NC(CCC(C(=O)O)N)=O)C(=O)NCC(O)=O)[N+]2=CN(C3C(C(C(CO)O3)OP(O)(OC(C)CNC(=O)CCC6(C)C1CC(N)=O)=O)O)C1=CC(=C(C=C21)C)C)C)C)CC(N)=O)CCC(N)=O\n",
      "Filtered out due to presence of disallowed elements in SMILES: C1(CC[C@@]2([C@@H](CC(N)=O)[C@@]3([C@@]4([N+]5=C([C@H]([C@@]4(CC(N)=O)C)CCC(N)=O)C(C)=C4[N+]6=C(C=C7[N+]8=C([C@H](C7(C)C)CCC(N)=O)C(C)=C2N3[Co-3]568([N+]2=CN([C@H]3O[C@@H]([C@@H](OP(O[C@@H](CN1)C)([O-])=O)[C@H]3O)CO)C1=CC(C)=C(C=C21)C)C)[C@H]([C@@]4(CC(N)=O)C)CCC(N)=O)C)[H])C)=O\n",
      "Filtered out due to presence of disallowed elements in SMILES: [N+]1=2[Co-3]345([N+]6=C7[C@H]([C@@](CC(=O)N)(C)[C@@]6([C@@]6(N3C(=C(C)C3=[N+]4C(C(C)(C)[C@@H]3CCC(=O)N)=CC3=[N+]5C(=C7C)[C@@](CC(=O)N)([C@@H]3CCC(=O)N)C)[C@@](C)([C@H]6CC(=O)N)CCC(NC[C@@H](C)OP(=O)(O[C@@H]3[C@H](O[C@H](N(C4=CC(=C(C=C14)C)C)C=2)[C@@H]3O)CO)[O-])=O)[H])C)CCC(=O)N)O[H]\n",
      "Filtered out due to presence of disallowed elements in SMILES: [B+3]\n",
      "Filtered out due to presence of disallowed elements in SMILES: [Be++]\n",
      "Filtered out due to presence of disallowed elements in SMILES: [Ni++]\n",
      "Filtered out due to presence of disallowed elements in SMILES: [Ge+4]\n",
      "Filtered out due to presence of disallowed elements in SMILES: [V+3]\n",
      "Filtered out due to presence of disallowed elements in SMILES: [Ag+]\n",
      "Filtered out due to presence of disallowed elements in SMILES: CC1=C(CCC(O)=O)C2=CC3=[N+]4C(=CC5=C(C)C(C=C)=C6C=C7C(C)=C(C=C)C8=[N+]7[Fe--]4(N2C1=C8)N56)C(C)=C3CCC(O)=O\n",
      "Filtered out due to presence of disallowed elements in SMILES: [H][C@]12[C@H](CC(N)=O)[C@@]3(C)CCC(=O)NC[C@@H](C)OP(O)(=O)O[C@@H]4[C@@H](CO)O[C@@H]([C@@H]4O)N4C=[N+](C5=CC(C)=C(C)C=C45)[Co-4]456N1C3=C(C)C1=[N+]4C(=CC3=[N+]5C(=C(C)C4=[N+]6[C@]2(C)[C@@](C)(CC(N)=O)[C@@H]4CCC(N)=O)[C@@](C)(CC(N)=O)[C@@H]3CCC(N)=O)C(C)(C)[C@@H]1CCC(N)=O\n",
      "Filtered out due to presence of disallowed elements in SMILES: [N+]12=C3C(C(C)(C1=C(C1=[N+]4C(C(CC(N)=O)(C)C1CCC(N)=O)(C)C1N5C6=C(C7=[N+](C(=C3)C(C)(C)C7CCC(N)=O)[Co-3]245(SCC(NC(CCC(C(=O)O)N)=O)C(=O)NCC(O)=O)[N+]2=CN(C3C(C(C(CO)O3)OP(O)(OC(C)CNC(=O)CCC6(C)C1CC(N)=O)=O)O)C1=CC(=C(C=C21)C)C)C)C)CC(N)=O)CCC(N)=O\n",
      "Filtered out due to presence of disallowed elements in SMILES: [Hg++]\n",
      "Filtered out due to presence of disallowed elements in SMILES: [Cd++]\n",
      "Filtered out due to presence of disallowed elements in SMILES: [Sr++]\n",
      "Conformer optimization failed for SMILES due to MMFF94: [H][C@@]12C[C@H](CC)[C@]3([H])N(C1)CCC1=C(NC4=CC(=C(OC)C=C14)[C@@]1([H])C[C@]4([H])C(C(=O)OC)[C@@]([H])(CC5=C1NC1=CC=CC=C51)N(C)C\\C4=C\\C)[C@@]3(C2)C(=O)OC, Error: Bad Conformer Id\n",
      "Conformer optimization failed for SMILES due to MMFF94: CC(C)[C@@]12C[C@H]1[C@@](C)(O)CC2, Error: Bad Conformer Id\n"
     ]
    }
   ],
   "source": [
    "filtered_molecules = []\n",
    "\n",
    "allowed_elements = {'C', 'H', 'O', 'N', 'P', 'S', 'F', 'Cl', 'Br', 'I', 'As', 'Se'}\n",
    "\n",
    "for smi in dsmiles:\n",
    "    # SMILES strings containing '.' were excluded\n",
    "    if '.' in smi:\n",
    "        print(f\"Filtered out due to dot in SMILES: {smi}\")\n",
    "        continue\n",
    "    \n",
    "    iMol = Chem.MolFromSmiles(smi)\n",
    "    if iMol is None:\n",
    "        print(f\"The molecular object could not be generated from the SMILES: {smi}\")\n",
    "        continue  \n",
    "    \n",
    "    # molecules containing prohibited elements were excluded\n",
    "    if any(atom.GetSymbol() not in allowed_elements for atom in iMol.GetAtoms()):\n",
    "        print(f\"Filtered out due to presence of disallowed elements in SMILES: {smi}\")\n",
    "        continue\n",
    "      \n",
    "    iMol3D = Chem.AddHs(iMol)\n",
    "\n",
    "    # molecules with unsuccessful conformer generation using ETKDG and MMFF94 are excluded\n",
    "    ps = AllChem.ETKDGv3()\n",
    "    ps.randomSeed = -1\n",
    "    ps.maxAttempts = 1\n",
    "    ps.numThreads = 0\n",
    "    ps.useRandomCoords = True\n",
    "    try:\n",
    "        re = AllChem.EmbedMultipleConfs(iMol3D, numConfs=1, params=ps)\n",
    "    except Exception as e:\n",
    "        print(f\"Conformer generation failed for SMILES due to ETKDG: {smi}, Error: {e}\")\n",
    "        continue\n",
    "    try:    \n",
    "        re = AllChem.MMFFOptimizeMoleculeConfs(iMol3D, numThreads=0)\n",
    "    except Exception as e:\n",
    "        print(f\"Conformer optimization failed for SMILES due to MMFF94: {smi}, Error: {e}\")\n",
    "        continue\n",
    "\n",
    "    has_C = any(atom.GetSymbol() == 'C' for atom in iMol3D.GetAtoms())\n",
    "    has_H = any(atom.GetSymbol() == 'H' for atom in iMol3D.GetAtoms())\n",
    "    \n",
    "    if has_C and has_H:\n",
    "        filtered_molecules.append(smi)"
   ]
  },
  {
   "cell_type": "markdown",
   "id": "4fe4a54d-30f3-42a9-965d-791cbc208730",
   "metadata": {},
   "source": [
    "## CCS prediction"
   ]
  },
  {
   "cell_type": "markdown",
   "id": "f383973d-a063-4953-809a-7c3e3bf0b191",
   "metadata": {},
   "source": [
    "### Calculation of the voxel projected area and m/z"
   ]
  },
  {
   "cell_type": "code",
   "execution_count": 4,
   "id": "9adf3ad3-2b98-4d95-9a1a-be9ce2212746",
   "metadata": {},
   "outputs": [
    {
     "name": "stderr",
     "output_type": "stream",
     "text": [
      "[21:35:53] UFFTYPER: Unrecognized charge state for atom: 1\n",
      "[21:35:53] UFFTYPER: Unrecognized charge state for atom: 1\n",
      "[21:36:06] UFFTYPER: Unrecognized charge state for atom: 1\n",
      "[21:36:07] UFFTYPER: Unrecognized charge state for atom: 1\n"
     ]
    }
   ],
   "source": [
    "pool = ThreadPool(16)\n",
    "re = pool.map(smilesPA, filtered_molecules)\n",
    "pool.close()\n",
    "pool.join()\n",
    "vpa = np.mean(re,axis=1)"
   ]
  },
  {
   "cell_type": "code",
   "execution_count": 5,
   "id": "4f9d6e4f-04f2-4b4b-94de-a515552a2399",
   "metadata": {},
   "outputs": [],
   "source": [
    "df = pd.DataFrame({'SMILES': filtered_molecules, 'vpa': vpa})\n",
    "df['Adduct'] = '[M+H]+'\n",
    "\n",
    "repeated_dfs = []\n",
    "\n",
    "for column in df.columns:\n",
    "    repeated_column = pd.DataFrame(df[column].values.repeat(3))\n",
    "    repeated_dfs.append(repeated_column)\n",
    "\n",
    "df_repeated = pd.concat(repeated_dfs, axis=1)\n",
    "num_repeats = 3  \n",
    "df_repeated.columns = [f\"{column}_{i+1}\" for column in df.columns for i in range(num_repeats)][:df_repeated.shape[1]]\n",
    "df_repeated.columns = ['SMILES', 'vpa', 'Adduct']\n",
    "\n",
    "row_indices_to_modify = df_repeated.index[1::3]\n",
    "df_repeated.loc[row_indices_to_modify, 'Adduct'] = df_repeated.loc[row_indices_to_modify, 'Adduct'].replace('[M+H]+', '[M+Na]+')\n",
    "row_indices_to_modify = df_repeated.index[2::3]\n",
    "df_repeated.loc[row_indices_to_modify, 'Adduct'] = df_repeated.loc[row_indices_to_modify, 'Adduct'].replace('[M+H]+', '[M-H]-')"
   ]
  },
  {
   "cell_type": "code",
   "execution_count": 6,
   "id": "02af7e57-d128-412b-b7ae-3afc13a19b09",
   "metadata": {},
   "outputs": [
    {
     "name": "stderr",
     "output_type": "stream",
     "text": [
      "100%|████████████████████████████████████████████████████████████████████████████| 5751/5751 [00:00<00:00, 6752.38it/s]\n"
     ]
    }
   ],
   "source": [
    "dsmiles = df_repeated['SMILES']\n",
    "dadduct = df_repeated['Adduct']\n",
    "mz = SmilesMW(dsmiles, dadduct)\n",
    "df_repeated['mz'] = mz\n",
    "df_repeated.to_csv('./data/example_database_vpa_mz.csv', index=False)"
   ]
  },
  {
   "cell_type": "markdown",
   "id": "fc23ba98-bbc4-42a2-984e-78f350f23f78",
   "metadata": {},
   "source": [
    "### Perform CCS prediction"
   ]
  },
  {
   "cell_type": "code",
   "execution_count": 7,
   "id": "ef0787bb-b35d-4a23-a7c2-4c13ff6fb760",
   "metadata": {},
   "outputs": [
    {
     "name": "stdout",
     "output_type": "stream",
     "text": [
      "## Read data :  5751\n",
      "## All Atoms :  ['As', 'Br', 'C', 'Cl', 'F', 'I', 'N', 'O', 'P', 'S', 'Se']\n",
      "## All Adduct types:  ['[M+H]+', '[M+Na]+', '[M-H]-']\n",
      "Test length : 5751\n"
     ]
    },
    {
     "name": "stderr",
     "output_type": "stream",
     "text": [
      "100%|██████████████████████████████████████████████████████████████████████████████| 5751/5751 [08:32<00:00, 11.21it/s]\n",
      "100%|█████████████████████████████████████████████████████████████████████████████| 5751/5751 [00:33<00:00, 170.67it/s]"
     ]
    },
    {
     "name": "stdout",
     "output_type": "stream",
     "text": [
      "## CCS prediction has been completed\n"
     ]
    },
    {
     "name": "stderr",
     "output_type": "stream",
     "text": [
      "\n"
     ]
    }
   ],
   "source": [
    "input_path = './data/example_database_vpa_mz.csv'\n",
    "model_path = '../model/model.pt'\n",
    "output_path = './data/example_database_prediction.csv'\n",
    "PACCS_predict_woeccs(input_path, model_path, output_path)"
   ]
  },
  {
   "cell_type": "markdown",
   "id": "847080a4-87a9-4e66-9dc9-72953b7fa51d",
   "metadata": {},
   "source": [
    "## Database generation"
   ]
  },
  {
   "cell_type": "markdown",
   "id": "f8df80f9-18b5-472b-a8a4-d8f1ee347d5c",
   "metadata": {},
   "source": [
    "### Store comprehensive information for molecules in the SQLite database"
   ]
  },
  {
   "cell_type": "code",
   "execution_count": 8,
   "id": "11eb0193-2bf4-46c9-a413-1686eefd3102",
   "metadata": {},
   "outputs": [],
   "source": [
    "data = pd.read_csv(output_path)\n",
    "\n",
    "conn = sqlite3.connect('./data/CCS database.db')\n",
    "data.to_sql('PACCS', conn, if_exists='replace', index=False)\n",
    "conn.close()"
   ]
  },
  {
   "cell_type": "markdown",
   "id": "76d1f35d-17f0-4848-8a63-8ab98db85406",
   "metadata": {},
   "source": [
    "### Access and view the SQLite database"
   ]
  },
  {
   "cell_type": "code",
   "execution_count": 9,
   "id": "0ee13728-4d5f-4dd0-b2d0-67e482b22242",
   "metadata": {},
   "outputs": [
    {
     "name": "stdout",
     "output_type": "stream",
     "text": [
      "                                                 SMILES   Adduct         vpa  \\\n",
      "0                           CN1C=NC(C[C@H](N)C(O)=O)=C1   [M+H]+  104.466667   \n",
      "1                           CN1C=NC(C[C@H](N)C(O)=O)=C1  [M+Na]+  104.466667   \n",
      "2                           CN1C=NC(C[C@H](N)C(O)=O)=C1   [M-H]-  104.466667   \n",
      "3                                                 NCCCN   [M+H]+   60.400000   \n",
      "4                                                 NCCCN  [M+Na]+   60.400000   \n",
      "...                                                 ...      ...         ...   \n",
      "5746  [H][C@@]12CCC(C(=O)CO)[C@@]1(C)CC(=O)[C@@]1([H...  [M+Na]+  201.533333   \n",
      "5747  [H][C@@]12CCC(C(=O)CO)[C@@]1(C)CC(=O)[C@@]1([H...   [M-H]-  201.533333   \n",
      "5748  [H][C@@]12CC[C@](O)(C(C)=O)[C@@]1(C)C[C@@H](O)...   [M+H]+  201.966667   \n",
      "5749  [H][C@@]12CC[C@](O)(C(C)=O)[C@@]1(C)C[C@@H](O)...  [M+Na]+  201.966667   \n",
      "5750  [H][C@@]12CC[C@](O)(C(C)=O)[C@@]1(C)C[C@@H](O)...   [M-H]-  201.966667   \n",
      "\n",
      "              mz  Predicted CCS  \n",
      "0     170.092403     135.445374  \n",
      "1     192.074347     140.138260  \n",
      "2     168.077850     137.285141  \n",
      "3      75.091675     115.978615  \n",
      "4      97.073619     125.768860  \n",
      "...          ...            ...  \n",
      "5746  367.187980     208.081940  \n",
      "5747  343.191483     185.655380  \n",
      "5748  347.221686     186.077194  \n",
      "5749  369.203630     211.014313  \n",
      "5750  345.207133     188.722061  \n",
      "\n",
      "[5751 rows x 5 columns]\n"
     ]
    }
   ],
   "source": [
    "conn = sqlite3.connect('./data/CCS database.db')\n",
    "query = \"SELECT name FROM sqlite_master WHERE type='table';\"\n",
    "table_names = pd.read_sql(query, conn)['name'].tolist()\n",
    "\n",
    "if not table_names:\n",
    "    print(\"No tables are available in the SQLite database\")\n",
    "else:\n",
    "    default_table = table_names[0]\n",
    "    df = pd.read_sql(f\"SELECT * FROM {default_table}\", conn)\n",
    "    print(df)\n",
    "    \n",
    "conn.close()"
   ]
  },
  {
   "cell_type": "code",
   "execution_count": null,
   "id": "45231f34-94eb-4f05-8a0a-ca17d09e23e1",
   "metadata": {},
   "outputs": [],
   "source": []
  }
 ],
 "metadata": {
  "kernelspec": {
   "display_name": "Python 3 (ipykernel)",
   "language": "python",
   "name": "python3"
  },
  "language_info": {
   "codemirror_mode": {
    "name": "ipython",
    "version": 3
   },
   "file_extension": ".py",
   "mimetype": "text/x-python",
   "name": "python",
   "nbconvert_exporter": "python",
   "pygments_lexer": "ipython3",
   "version": "3.12.3"
  }
 },
 "nbformat": 4,
 "nbformat_minor": 5
}
