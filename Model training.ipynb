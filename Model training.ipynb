{
 "cells": [
  {
   "cell_type": "markdown",
   "id": "f243fcef-8275-4204-ab04-81f81f042963",
   "metadata": {},
   "source": [
    "# Training the PACCS model"
   ]
  },
  {
   "cell_type": "code",
   "execution_count": 1,
   "id": "22673f53-ba0e-468d-a109-f4ee64f58033",
   "metadata": {},
   "outputs": [],
   "source": [
    "from PACCS.Training import *"
   ]
  },
  {
   "cell_type": "markdown",
   "id": "64e6bdd9-5c01-4c15-9a26-4175ba79bde4",
   "metadata": {},
   "source": [
    "## Load the curated dataset, which is randomly divided into the training set, validation set, and test set with the ratio 8:1:1. The training set and validation set are used for model training and hyperparameter tuning, respectively."
   ]
  },
  {
   "cell_type": "code",
   "execution_count": 2,
   "id": "28b198ac-a577-4279-92b3-caab4c4108a6",
   "metadata": {},
   "outputs": [],
   "source": [
    "input_path = './data/the_curated_dataset_vpa_mz.csv'"
   ]
  },
  {
   "cell_type": "markdown",
   "id": "6e868ad3-a9f7-4433-a9d1-5d3f9ca85cab",
   "metadata": {},
   "source": [
    "## Path to save the PACCS model"
   ]
  },
  {
   "cell_type": "code",
   "execution_count": 3,
   "id": "5abbe887-4e69-4657-8cc7-939e53eb27dc",
   "metadata": {},
   "outputs": [],
   "source": [
    "output_path = './model/model_new.pt'"
   ]
  },
  {
   "cell_type": "markdown",
   "id": "5a03f972-9142-4265-8d68-6deaa551f844",
   "metadata": {},
   "source": [
    "## Model training"
   ]
  },
  {
   "cell_type": "code",
   "execution_count": null,
   "id": "2906ec38-922e-4aef-804f-5324f35085e8",
   "metadata": {},
   "outputs": [
    {
     "name": "stdout",
     "output_type": "stream",
     "text": [
      "Data already has vpa and mz columns, no need to export CSV file.\n",
      "## Read data :  8196\n",
      "## Adduct set order :  ['[M+H]+', '[M+Na]+', '[M-H]-']\n"
     ]
    },
    {
     "name": "stderr",
     "output_type": "stream",
     "text": [
      "100%|████████████████████████████████████████████████████████████| 8196/8196 [1:18:49<00:00,  1.73it/s]\n"
     ]
    },
    {
     "name": "stdout",
     "output_type": "stream",
     "text": [
      "## The size of the training set :  6556\n",
      "## The size of the validation set :  819\n"
     ]
    },
    {
     "name": "stderr",
     "output_type": "stream",
     "text": [
      "Training-Loss 33.71: 100%|████████████████████████████████████████▉| 6544/6556 [01:20<00:00, 81.47it/s]\n",
      "100%|███████████████████████████████████████████████████████████████| 819/819 [00:05<00:00, 151.24it/s]\n"
     ]
    },
    {
     "name": "stdout",
     "output_type": "stream",
     "text": [
      "train-loss 44.4055 val-loss 34.2819\n"
     ]
    },
    {
     "name": "stderr",
     "output_type": "stream",
     "text": [
      "Training-Loss 34.25: 100%|████████████████████████████████████████▉| 6544/6556 [01:19<00:00, 81.85it/s]\n",
      "100%|███████████████████████████████████████████████████████████████| 819/819 [00:05<00:00, 156.35it/s]\n"
     ]
    },
    {
     "name": "stdout",
     "output_type": "stream",
     "text": [
      "train-loss 34.194855 val-loss 34.89682\n"
     ]
    },
    {
     "name": "stderr",
     "output_type": "stream",
     "text": [
      "Training-Loss 28.64: 100%|████████████████████████████████████████▉| 6544/6556 [01:21<00:00, 80.43it/s]\n",
      "100%|███████████████████████████████████████████████████████████████| 819/819 [00:05<00:00, 157.44it/s]\n"
     ]
    },
    {
     "name": "stdout",
     "output_type": "stream",
     "text": [
      "train-loss 33.703968 val-loss 35.13814\n"
     ]
    },
    {
     "name": "stderr",
     "output_type": "stream",
     "text": [
      "Training-Loss 29.46: 100%|████████████████████████████████████████▉| 6544/6556 [01:22<00:00, 78.93it/s]\n",
      "100%|███████████████████████████████████████████████████████████████| 819/819 [00:05<00:00, 151.43it/s]\n"
     ]
    },
    {
     "name": "stdout",
     "output_type": "stream",
     "text": [
      "train-loss 32.9422 val-loss 33.752808\n"
     ]
    },
    {
     "name": "stderr",
     "output_type": "stream",
     "text": [
      "Training-Loss 38.54: 100%|████████████████████████████████████████▉| 6544/6556 [01:21<00:00, 80.73it/s]\n",
      "100%|███████████████████████████████████████████████████████████████| 819/819 [00:05<00:00, 157.26it/s]\n"
     ]
    },
    {
     "name": "stdout",
     "output_type": "stream",
     "text": [
      "train-loss 32.77409 val-loss 34.307034\n"
     ]
    },
    {
     "name": "stderr",
     "output_type": "stream",
     "text": [
      "Training-Loss 29.14: 100%|████████████████████████████████████████▉| 6544/6556 [01:20<00:00, 81.59it/s]\n",
      "100%|███████████████████████████████████████████████████████████████| 819/819 [00:05<00:00, 156.70it/s]\n"
     ]
    },
    {
     "name": "stdout",
     "output_type": "stream",
     "text": [
      "train-loss 32.076317 val-loss 31.968105\n"
     ]
    },
    {
     "name": "stderr",
     "output_type": "stream",
     "text": [
      "Training-Loss 29.53: 100%|████████████████████████████████████████▉| 6544/6556 [01:20<00:00, 80.81it/s]\n",
      "100%|███████████████████████████████████████████████████████████████| 819/819 [00:05<00:00, 156.40it/s]\n"
     ]
    },
    {
     "name": "stdout",
     "output_type": "stream",
     "text": [
      "train-loss 31.169704 val-loss 30.781914\n"
     ]
    },
    {
     "name": "stderr",
     "output_type": "stream",
     "text": [
      "Training-Loss 24.05: 100%|████████████████████████████████████████▉| 6544/6556 [01:22<00:00, 79.61it/s]\n",
      "100%|███████████████████████████████████████████████████████████████| 819/819 [00:05<00:00, 148.24it/s]\n"
     ]
    },
    {
     "name": "stdout",
     "output_type": "stream",
     "text": [
      "train-loss 30.606407 val-loss 30.14467\n"
     ]
    },
    {
     "name": "stderr",
     "output_type": "stream",
     "text": [
      "Training-Loss 27.08: 100%|████████████████████████████████████████▉| 6544/6556 [01:23<00:00, 78.08it/s]\n",
      "100%|███████████████████████████████████████████████████████████████| 819/819 [00:05<00:00, 147.74it/s]\n"
     ]
    },
    {
     "name": "stdout",
     "output_type": "stream",
     "text": [
      "train-loss 28.646269 val-loss 32.54271\n"
     ]
    },
    {
     "name": "stderr",
     "output_type": "stream",
     "text": [
      "Training-Loss 17.95: 100%|████████████████████████████████████████▉| 6544/6556 [01:23<00:00, 77.99it/s]\n",
      "100%|███████████████████████████████████████████████████████████████| 819/819 [00:05<00:00, 150.03it/s]\n"
     ]
    },
    {
     "name": "stdout",
     "output_type": "stream",
     "text": [
      "train-loss 27.222343 val-loss 28.25507\n"
     ]
    },
    {
     "name": "stderr",
     "output_type": "stream",
     "text": [
      "Training-Loss 23.65: 100%|████████████████████████████████████████▉| 6544/6556 [01:22<00:00, 79.55it/s]\n",
      "100%|███████████████████████████████████████████████████████████████| 819/819 [00:05<00:00, 141.82it/s]\n"
     ]
    },
    {
     "name": "stdout",
     "output_type": "stream",
     "text": [
      "train-loss 26.73112 val-loss 28.03489\n"
     ]
    },
    {
     "name": "stderr",
     "output_type": "stream",
     "text": [
      "Training-Loss 20.48:  98%|████████████████████████████████████████ | 6416/6556 [01:21<00:01, 82.35it/s]"
     ]
    }
   ],
   "source": [
    "PACCS_Model = PACCS_train(input_path, 100, 16, output_path)"
   ]
  },
  {
   "cell_type": "code",
   "execution_count": null,
   "id": "a0061061-5dbd-4609-99ab-0a1479e9836b",
   "metadata": {},
   "outputs": [],
   "source": []
  }
 ],
 "metadata": {
  "kernelspec": {
   "display_name": "Python 3 (ipykernel)",
   "language": "python",
   "name": "python3"
  },
  "language_info": {
   "codemirror_mode": {
    "name": "ipython",
    "version": 3
   },
   "file_extension": ".py",
   "mimetype": "text/x-python",
   "name": "python",
   "nbconvert_exporter": "python",
   "pygments_lexer": "ipython3",
   "version": "3.12.3"
  }
 },
 "nbformat": 4,
 "nbformat_minor": 5
}
